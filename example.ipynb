{
 "cells": [
  {
   "cell_type": "markdown",
   "metadata": {},
   "source": [
    "This notebook walks through an example of performing our proposed clustering on a DHN. "
   ]
  },
  {
   "cell_type": "code",
   "execution_count": 1,
   "metadata": {},
   "outputs": [],
   "source": [
    "# First we need the task-driven distance metrics values\n",
    "# Note that to compute these distances, the physical states of the DHN are necessary. However, they have been made already available.\n",
    "\n",
    "# Import packages\n",
    "from src.dhnv2 import *\n",
    "from src.utils import *\n",
    "from src.helpers import *\n",
    "from src.clustering import ClusteringDHN"
   ]
  },
  {
   "cell_type": "markdown",
   "metadata": {},
   "source": [
    "Creating a ClusteringDHN object\n",
    "\n",
    "This object requires **two major arguments**: \n",
    "\n",
    "    - dhn: (DistrictHeatingNetworkFromExcel) object containing the graph and physical descriptions of the DHN\n",
    "    \n",
    "    - producers: (list) indexes of the sources nodes\n",
    "\n",
    "\n",
    "However, here in this demonstration, we have already saved all the distance metrics and therefore the dhn and sources information are not needed anymore."
   ]
  },
  {
   "cell_type": "code",
   "execution_count": 2,
   "metadata": {},
   "outputs": [],
   "source": [
    "# Read the clustering object\n",
    "clustering_obj = ClusteringDHN(dhn_indicator=1, dhn=None, producers=None) # dhn and sources may not be none if available and requires the physical states"
   ]
  },
  {
   "cell_type": "markdown",
   "metadata": {},
   "source": [
    "Loading all distance values ...."
   ]
  },
  {
   "cell_type": "code",
   "execution_count": 3,
   "metadata": {},
   "outputs": [],
   "source": [
    "# If the distance metrics values are available\n",
    "clustering_obj.load_distance_matrix()"
   ]
  },
  {
   "cell_type": "markdown",
   "metadata": {},
   "source": [
    "Here, we perform the clustering. Defined values of the hyperparameters are required."
   ]
  },
  {
   "cell_type": "code",
   "execution_count": 10,
   "metadata": {},
   "outputs": [
    {
     "name": "stdout",
     "output_type": "stream",
     "text": [
      "Performing the clustering for DHN 1 .....\n",
      "Nodes of the formed clusters: \n",
      "   [2, 3, 4, 5, 13, 14, 15, 23, 24, 25, 26, 27, 28, 29, 34, 35, 41, 42, 43, 51, 52, 53, 54, 55, 58, 59, 65]\n",
      "   [6, 22]\n",
      "   [8, 45, 46, 50, 56, 61, 63, 64]\n",
      "   [9, 10]\n",
      "   [17, 18, 31, 32, 33, 36, 37, 38, 40, 44, 62, 67, 68, 71]\n",
      "   [19, 20, 21, 30, 60, 66, 69, 70]\n",
      "   [39, 47, 48, 49]\n"
     ]
    }
   ],
   "source": [
    "# Hyperparameters\n",
    "delta = 0.8\n",
    "alpha = 0.5\n",
    "beta = 0.5\n",
    "\n",
    "# Performing the clustering\n",
    "list_clusters = clustering_obj.perform_clustering_one_shot(alpha, beta, delta)\n",
    "print('Nodes of the formed clusters: ')\n",
    "for cl in list_clusters:\n",
    "    if len(cl) > 1:\n",
    "        print('  ', [i+1 for i in cl])"
   ]
  }
 ],
 "metadata": {
  "kernelspec": {
   "display_name": ".env_clustering",
   "language": "python",
   "name": "python3"
  },
  "language_info": {
   "codemirror_mode": {
    "name": "ipython",
    "version": 3
   },
   "file_extension": ".py",
   "mimetype": "text/x-python",
   "name": "python",
   "nbconvert_exporter": "python",
   "pygments_lexer": "ipython3",
   "version": "3.9.12"
  }
 },
 "nbformat": 4,
 "nbformat_minor": 2
}
