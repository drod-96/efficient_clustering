{
 "cells": [
  {
   "cell_type": "markdown",
   "metadata": {},
   "source": [
    "This notebook walks through an example of performing our proposed clustering on a DHN. "
   ]
  },
  {
   "cell_type": "code",
   "execution_count": 1,
   "metadata": {},
   "outputs": [],
   "source": [
    "# First we need the task-driven distance metrics values\n",
    "# Note that to compute these distances, the physical states of the DHN are necessary. However, they have been made already available.\n",
    "\n",
    "# Import packages\n",
    "from src.dhnv2 import *\n",
    "from src.utils import *\n",
    "from src.helpers import *\n",
    "# from src.clustering import ClusteringDHN\n",
    "from src.clusteringV2 import ClusteringNew\n"
   ]
  },
  {
   "cell_type": "markdown",
   "metadata": {},
   "source": [
    "Creating a ClusteringDHN object\n",
    "\n",
    "This object requires **two major arguments**: \n",
    "\n",
    "    - dhn: (DistrictHeatingNetworkFromExcel) object containing the graph and physical descriptions of the DHN\n",
    "    \n",
    "    - producers: (list) indexes of the sources nodes\n",
    "\n",
    "\n",
    "However, here in this demonstration, we have already saved all the distance metrics and therefore the dhn and sources information are not needed anymore."
   ]
  },
  {
   "cell_type": "code",
   "execution_count": 2,
   "metadata": {},
   "outputs": [],
   "source": [
    "import pickle as pkl \n",
    "file_path = os.path.join('pickled_dhns', f'dhn{1}.pkl')\n",
    "with open(file_path, 'rb') as f:\n",
    "    dhn = pkl.load(f)"
   ]
  },
  {
   "cell_type": "code",
   "execution_count": 3,
   "metadata": {},
   "outputs": [
    {
     "data": {
      "text/plain": [
       "<src.dhnv2.DistrictHeatingNetworkFromExcel at 0x181af8d1ac0>"
      ]
     },
     "execution_count": 3,
     "metadata": {},
     "output_type": "execute_result"
    }
   ],
   "source": [
    "dhn"
   ]
  },
  {
   "cell_type": "code",
   "execution_count": 4,
   "metadata": {},
   "outputs": [],
   "source": [
    "# Read the clustering object\n",
    "clustering_obj = ClusteringNew(dhn_indicator=1, dhn=dhn, producers=[0,56]) # dhn and sources may not be none if available and requires the physical states"
   ]
  },
  {
   "cell_type": "markdown",
   "metadata": {},
   "source": [
    "Here, we perform the clustering. Defined values of the hyperparameters are required."
   ]
  },
  {
   "cell_type": "code",
   "execution_count": 5,
   "metadata": {},
   "outputs": [
    {
     "name": "stdout",
     "output_type": "stream",
     "text": [
      "Formed clusters: [[0], [1], [2], [3], [4], [5], [6], [7], [8], [9], [10], [11], [12], [13], [14], [15], [16], [17], [18], [19], [20], [21], [22], [23], [24], [25], [26], [27], [28], [29], [30], [31], [32], [33], [34], [35], [36], [37], [38], [39], [40], [41], [42], [43], [44], [45], [46], [47], [48], [49], [50], [51], [52], [53], [54], [55], [56], [57], [58], [59], [60], [61], [62], [63], [64], [65], [66], [67], [68], [69], [70]] with distance 0.19674584474094114\n",
      "Formed clusters: [[0], [1], [2], [3], [4], [5], [6], [7], [8], [9], [10], [11], [12], [13], [14], [15], [16], [17], [18], [19], [20], [21], [22], [23], [24], [25], [26], [27], [28], [29], [30], [31], [32], [33], [34], [35], [36], [37], [38], [39], [40], [41], [42], [43], [44], [45], [46], [47], [48], [49], [50], [51], [52], [53], [54], [55], [56], [57], [58], [59], [60], [61], [62], [63], [64], [65], [67], [68], [69], [66, 70]] with distance 0.24754840248948856\n",
      "Formed clusters: [[0], [1], [2], [3], [4], [5], [6], [7], [8], [9], [10], [11], [12], [13], [14], [15], [16], [17], [18], [19], [20], [21], [22], [23], [24], [25], [26], [27], [28], [29], [30], [31], [32], [33], [34], [35], [36], [37], [38], [39], [40], [41], [42], [43], [44], [45], [46], [47], [48], [49], [50], [51], [52], [53], [54], [55], [56], [59], [60], [61], [62], [63], [64], [65], [67], [68], [69], [66, 70], [57, 58]] with distance 0.2721476442092974\n",
      "Formed clusters: [[0], [1], [2], [3], [4], [5], [6], [7], [8], [9], [10], [11], [12], [13], [14], [15], [16], [17], [18], [19], [20], [21], [22], [23], [24], [25], [26], [27], [28], [29], [30], [31], [32], [33], [34], [35], [36], [37], [38], [39], [40], [41], [42], [44], [45], [46], [47], [48], [49], [50], [51], [52], [53], [54], [55], [56], [59], [60], [62], [63], [64], [65], [67], [68], [69], [66, 70], [57, 58], [43, 61]] with distance 0.2813939755778174\n",
      "Formed clusters: [[0], [1], [2], [3], [4], [5], [6], [7], [8], [9], [10], [11], [12], [13], [14], [15], [16], [17], [18], [19], [20], [21], [22], [23], [24], [25], [26], [27], [28], [29], [30], [31], [32], [33], [34], [35], [36], [37], [38], [39], [40], [41], [42], [46], [47], [48], [49], [50], [51], [52], [53], [54], [55], [56], [59], [60], [62], [63], [64], [65], [67], [68], [69], [66, 70], [57, 58], [43, 61], [44, 45]] with distance 0.29107454264898447\n",
      "Formed clusters: [[0], [1], [2], [3], [4], [5], [6], [7], [8], [9], [10], [11], [12], [13], [14], [15], [16], [17], [18], [19], [20], [21], [22], [23], [24], [25], [26], [27], [29], [30], [31], [32], [33], [34], [35], [36], [37], [38], [39], [40], [41], [42], [46], [47], [48], [49], [50], [51], [53], [54], [55], [56], [59], [60], [62], [63], [64], [65], [67], [68], [69], [66, 70], [57, 58], [43, 61], [44, 45], [28, 52]] with distance 0.30243360882183773\n",
      "Formed clusters: [[0], [1], [2], [3], [4], [5], [6], [7], [8], [9], [10], [11], [12], [13], [14], [15], [16], [17], [18], [19], [20], [21], [22], [23], [24], [25], [26], [27], [29], [32], [33], [34], [35], [36], [37], [38], [39], [40], [41], [42], [46], [47], [48], [49], [50], [51], [53], [54], [55], [56], [59], [60], [62], [63], [64], [65], [67], [68], [69], [66, 70], [57, 58], [43, 61], [44, 45], [28, 52], [30, 31]] with distance 0.3030778925497636\n",
      "Formed clusters: [[0], [1], [3], [5], [6], [7], [8], [9], [10], [11], [12], [13], [14], [15], [16], [17], [18], [19], [20], [21], [22], [23], [24], [25], [26], [27], [29], [32], [33], [34], [35], [36], [37], [38], [39], [40], [41], [42], [46], [47], [48], [49], [50], [51], [53], [54], [55], [56], [59], [60], [62], [63], [64], [65], [67], [68], [69], [66, 70], [57, 58], [43, 61], [44, 45], [28, 52], [30, 31], [2, 4]] with distance 0.28934812034912455\n",
      "Formed clusters: [[0], [1], [3], [5], [6], [7], [8], [9], [10], [11], [12], [13], [14], [15], [16], [17], [18], [19], [20], [21], [22], [24], [25], [26], [27], [29], [32], [33], [34], [35], [36], [37], [38], [39], [40], [41], [42], [46], [47], [48], [49], [50], [53], [54], [55], [56], [59], [60], [62], [63], [64], [65], [67], [68], [69], [66, 70], [57, 58], [43, 61], [44, 45], [28, 52], [30, 31], [2, 4], [23, 51]] with distance 0.30019657037190395\n",
      "Formed clusters: [[0], [1], [3], [5], [6], [7], [10], [11], [12], [13], [14], [15], [16], [17], [18], [19], [20], [21], [22], [24], [25], [26], [27], [29], [32], [33], [34], [35], [36], [37], [38], [39], [40], [41], [42], [46], [47], [48], [49], [50], [53], [54], [55], [56], [59], [60], [62], [63], [64], [65], [67], [68], [69], [66, 70], [57, 58], [43, 61], [44, 45], [28, 52], [30, 31], [2, 4], [23, 51], [8, 9]] with distance 0.30450086774212926\n",
      "Formed clusters: [[0], [1], [3], [5], [6], [7], [10], [11], [12], [13], [14], [15], [16], [17], [18], [19], [20], [21], [22], [24], [25], [26], [27], [29], [32], [33], [34], [35], [36], [37], [38], [39], [40], [41], [42], [46], [47], [48], [49], [50], [53], [54], [55], [56], [59], [63], [64], [65], [67], [68], [69], [66, 70], [57, 58], [43, 61], [44, 45], [28, 52], [30, 31], [2, 4], [23, 51], [8, 9], [60, 62]] with distance 0.3085622874634953\n",
      "Formed clusters: [[0], [1], [3], [5], [6], [7], [10], [11], [12], [14], [15], [16], [17], [18], [19], [20], [21], [22], [24], [25], [26], [27], [29], [32], [33], [34], [35], [36], [37], [38], [39], [40], [41], [42], [46], [47], [48], [49], [53], [54], [55], [56], [59], [63], [64], [65], [67], [68], [69], [66, 70], [57, 58], [43, 61], [44, 45], [28, 52], [30, 31], [2, 4], [23, 51], [8, 9], [60, 62], [13, 50]] with distance 0.30680386553264993\n",
      "Formed clusters: [[0], [1], [3], [5], [6], [7], [10], [11], [12], [14], [15], [16], [17], [18], [19], [20], [21], [22], [24], [25], [26], [27], [29], [32], [33], [34], [35], [36], [37], [38], [39], [40], [41], [42], [46], [47], [48], [49], [53], [54], [55], [56], [59], [64], [65], [67], [68], [69], [66, 70], [57, 58], [43, 61], [44, 45], [28, 52], [30, 31], [2, 4], [23, 51], [8, 9], [13, 50], [63, 60, 62]] with distance 0.3083406201975013\n",
      "Formed clusters: [[0], [1], [5], [6], [7], [10], [11], [12], [14], [15], [16], [17], [18], [19], [20], [21], [22], [24], [25], [26], [27], [29], [32], [33], [35], [36], [37], [38], [39], [40], [41], [42], [46], [47], [48], [49], [53], [54], [55], [56], [59], [64], [65], [67], [68], [69], [66, 70], [57, 58], [43, 61], [44, 45], [28, 52], [30, 31], [2, 4], [23, 51], [8, 9], [13, 50], [63, 60, 62], [3, 34]] with distance 0.3172831767328052\n",
      "Formed clusters: [[0], [1], [5], [6], [7], [10], [11], [12], [14], [15], [16], [17], [18], [19], [20], [21], [22], [24], [25], [26], [27], [29], [32], [33], [35], [36], [37], [39], [40], [41], [42], [46], [48], [49], [53], [54], [55], [56], [59], [64], [65], [67], [68], [69], [66, 70], [57, 58], [43, 61], [44, 45], [28, 52], [30, 31], [2, 4], [23, 51], [8, 9], [13, 50], [63, 60, 62], [3, 34], [38, 47]] with distance 0.32299141520093144\n",
      "Formed clusters: [[0], [1], [5], [6], [7], [10], [11], [12], [14], [15], [16], [17], [18], [19], [20], [21], [22], [24], [25], [26], [27], [29], [32], [35], [36], [37], [39], [40], [41], [42], [46], [48], [49], [53], [55], [56], [59], [64], [65], [67], [68], [69], [66, 70], [57, 58], [43, 61], [44, 45], [28, 52], [30, 31], [2, 4], [23, 51], [8, 9], [13, 50], [63, 60, 62], [3, 34], [38, 47], [33, 54]] with distance 0.32839147632486576\n",
      "Formed clusters: [[0], [1], [5], [6], [7], [10], [11], [12], [14], [15], [16], [17], [18], [19], [20], [21], [22], [24], [25], [26], [29], [32], [35], [36], [37], [39], [40], [41], [42], [46], [48], [49], [53], [55], [56], [59], [64], [65], [67], [68], [69], [66, 70], [57, 58], [43, 61], [44, 45], [30, 31], [2, 4], [23, 51], [8, 9], [13, 50], [63, 60, 62], [3, 34], [38, 47], [33, 54], [27, 28, 52]] with distance 0.3289163671580473\n",
      "Formed clusters: [[0], [1], [5], [6], [7], [10], [11], [12], [14], [15], [16], [17], [18], [19], [20], [21], [22], [24], [25], [26], [32], [35], [36], [37], [39], [40], [41], [42], [46], [48], [49], [53], [55], [56], [59], [64], [67], [68], [69], [66, 70], [57, 58], [43, 61], [44, 45], [30, 31], [2, 4], [23, 51], [8, 9], [13, 50], [63, 60, 62], [3, 34], [38, 47], [33, 54], [27, 28, 52], [29, 65]] with distance 0.33286527011090006\n",
      "Formed clusters: [[0], [1], [5], [6], [7], [10], [11], [12], [14], [15], [16], [17], [18], [19], [20], [21], [22], [24], [25], [26], [32], [35], [36], [37], [39], [40], [41], [42], [46], [48], [49], [53], [56], [59], [64], [67], [68], [69], [66, 70], [57, 58], [43, 61], [30, 31], [2, 4], [23, 51], [8, 9], [13, 50], [63, 60, 62], [3, 34], [38, 47], [33, 54], [27, 28, 52], [29, 65], [55, 44, 45]] with distance 0.342649535100657\n",
      "Formed clusters: [[0], [1], [5], [6], [7], [10], [11], [12], [14], [15], [18], [19], [20], [21], [22], [24], [25], [26], [32], [35], [36], [37], [39], [40], [41], [42], [46], [48], [49], [53], [56], [59], [64], [67], [68], [69], [66, 70], [57, 58], [43, 61], [30, 31], [2, 4], [23, 51], [8, 9], [13, 50], [63, 60, 62], [3, 34], [38, 47], [33, 54], [27, 28, 52], [29, 65], [55, 44, 45], [16, 17]] with distance 0.3448298348529476\n",
      "Formed clusters: [[0], [1], [5], [6], [7], [10], [11], [12], [14], [15], [18], [19], [20], [21], [22], [24], [26], [32], [35], [36], [37], [39], [40], [42], [46], [48], [49], [53], [56], [59], [64], [67], [68], [69], [66, 70], [57, 58], [43, 61], [30, 31], [2, 4], [23, 51], [8, 9], [13, 50], [63, 60, 62], [3, 34], [38, 47], [33, 54], [27, 28, 52], [29, 65], [55, 44, 45], [16, 17], [25, 41]] with distance 0.3476336473263601\n",
      "Formed clusters: [[0], [1], [5], [6], [7], [10], [11], [12], [14], [15], [19], [21], [22], [24], [26], [32], [35], [36], [37], [39], [40], [42], [46], [48], [49], [53], [56], [59], [64], [67], [68], [69], [66, 70], [57, 58], [43, 61], [30, 31], [2, 4], [23, 51], [8, 9], [13, 50], [63, 60, 62], [3, 34], [38, 47], [33, 54], [27, 28, 52], [29, 65], [55, 44, 45], [16, 17], [25, 41], [18, 20]] with distance 0.3482830757044128\n",
      "Formed clusters: [[0], [1], [5], [6], [7], [10], [11], [12], [14], [15], [19], [21], [22], [24], [26], [32], [35], [36], [37], [39], [40], [42], [49], [53], [56], [59], [64], [67], [68], [69], [66, 70], [57, 58], [43, 61], [30, 31], [2, 4], [23, 51], [8, 9], [13, 50], [63, 60, 62], [3, 34], [38, 47], [33, 54], [27, 28, 52], [29, 65], [55, 44, 45], [16, 17], [25, 41], [18, 20], [46, 48]] with distance 0.34944647628832093\n",
      "Formed clusters: [[0], [1], [5], [6], [7], [10], [11], [12], [14], [15], [19], [21], [22], [24], [32], [35], [36], [37], [39], [42], [49], [53], [56], [59], [64], [67], [68], [69], [66, 70], [57, 58], [43, 61], [30, 31], [2, 4], [23, 51], [8, 9], [13, 50], [63, 60, 62], [3, 34], [38, 47], [33, 54], [27, 28, 52], [29, 65], [55, 44, 45], [16, 17], [25, 41], [18, 20], [46, 48], [26, 40]] with distance 0.35327069135114786\n",
      "Formed clusters: [[0], [1], [5], [6], [7], [10], [11], [12], [14], [15], [19], [21], [22], [24], [32], [35], [36], [37], [39], [49], [53], [56], [59], [67], [68], [69], [66, 70], [57, 58], [43, 61], [30, 31], [2, 4], [23, 51], [8, 9], [13, 50], [63, 60, 62], [3, 34], [38, 47], [33, 54], [27, 28, 52], [29, 65], [55, 44, 45], [16, 17], [25, 41], [18, 20], [46, 48], [26, 40], [42, 64]] with distance 0.37619234184991174\n",
      "Formed clusters: [[0], [1], [5], [6], [7], [10], [11], [12], [14], [15], [19], [21], [22], [24], [35], [36], [37], [39], [49], [53], [56], [59], [67], [68], [69], [57, 58], [43, 61], [30, 31], [2, 4], [23, 51], [8, 9], [13, 50], [63, 60, 62], [3, 34], [38, 47], [33, 54], [27, 28, 52], [29, 65], [55, 44, 45], [16, 17], [25, 41], [18, 20], [46, 48], [26, 40], [42, 64], [32, 66, 70]] with distance 0.3789265404606561\n",
      "Formed clusters: [[0], [1], [5], [6], [7], [10], [11], [12], [14], [15], [19], [21], [22], [24], [35], [36], [39], [49], [53], [56], [59], [67], [68], [69], [57, 58], [30, 31], [2, 4], [23, 51], [8, 9], [13, 50], [63, 60, 62], [3, 34], [38, 47], [33, 54], [27, 28, 52], [29, 65], [55, 44, 45], [16, 17], [25, 41], [18, 20], [46, 48], [26, 40], [42, 64], [32, 66, 70], [37, 43, 61]] with distance 0.3835594282685404\n",
      "Formed clusters: [[0], [1], [5], [6], [7], [10], [11], [12], [14], [15], [21], [22], [24], [35], [36], [39], [49], [53], [56], [59], [67], [69], [57, 58], [30, 31], [2, 4], [23, 51], [8, 9], [13, 50], [63, 60, 62], [3, 34], [38, 47], [33, 54], [27, 28, 52], [29, 65], [55, 44, 45], [16, 17], [25, 41], [18, 20], [46, 48], [26, 40], [42, 64], [32, 66, 70], [37, 43, 61], [19, 68]] with distance 0.35779765230689853\n",
      "Formed clusters: [[0], [1], [5], [6], [7], [10], [11], [12], [15], [21], [24], [35], [36], [39], [49], [53], [56], [59], [67], [69], [57, 58], [30, 31], [2, 4], [23, 51], [8, 9], [13, 50], [63, 60, 62], [3, 34], [38, 47], [33, 54], [27, 28, 52], [29, 65], [55, 44, 45], [16, 17], [25, 41], [18, 20], [46, 48], [26, 40], [42, 64], [32, 66, 70], [37, 43, 61], [19, 68], [14, 22]] with distance 0.3617909626849347\n",
      "Formed clusters: [[0], [1], [5], [6], [7], [10], [11], [12], [15], [21], [24], [35], [36], [39], [49], [53], [56], [59], [67], [69], [30, 31], [2, 4], [23, 51], [8, 9], [13, 50], [63, 60, 62], [3, 34], [38, 47], [33, 54], [27, 28, 52], [29, 65], [55, 44, 45], [16, 17], [25, 41], [18, 20], [46, 48], [26, 40], [32, 66, 70], [37, 43, 61], [19, 68], [14, 22], [57, 58, 42, 64]] with distance 0.36767181809003135\n",
      "Formed clusters: [[0], [1], [5], [6], [7], [10], [11], [12], [15], [21], [35], [36], [39], [49], [53], [56], [59], [67], [69], [30, 31], [2, 4], [8, 9], [13, 50], [63, 60, 62], [3, 34], [38, 47], [33, 54], [27, 28, 52], [29, 65], [55, 44, 45], [16, 17], [25, 41], [18, 20], [46, 48], [26, 40], [32, 66, 70], [37, 43, 61], [19, 68], [14, 22], [57, 58, 42, 64], [24, 23, 51]] with distance 0.34751986128452006\n",
      "Formed clusters: [[0], [1], [5], [6], [7], [10], [11], [12], [15], [21], [35], [36], [39], [49], [53], [56], [67], [69], [30, 31], [2, 4], [8, 9], [13, 50], [63, 60, 62], [3, 34], [38, 47], [33, 54], [27, 28, 52], [29, 65], [55, 44, 45], [16, 17], [25, 41], [46, 48], [26, 40], [32, 66, 70], [37, 43, 61], [19, 68], [14, 22], [57, 58, 42, 64], [24, 23, 51], [59, 18, 20]] with distance 0.35778973164879446\n",
      "Formed clusters: [[0], [1], [5], [6], [7], [10], [11], [12], [15], [21], [35], [36], [39], [49], [53], [56], [69], [30, 31], [2, 4], [8, 9], [13, 50], [63, 60, 62], [3, 34], [38, 47], [33, 54], [27, 28, 52], [29, 65], [55, 44, 45], [16, 17], [25, 41], [46, 48], [26, 40], [37, 43, 61], [19, 68], [14, 22], [57, 58, 42, 64], [24, 23, 51], [59, 18, 20], [67, 32, 66, 70]] with distance 0.36118333197183194\n",
      "Formed clusters: [[0], [5], [6], [7], [10], [11], [12], [15], [21], [35], [36], [39], [49], [53], [56], [69], [30, 31], [8, 9], [13, 50], [63, 60, 62], [3, 34], [38, 47], [33, 54], [27, 28, 52], [29, 65], [55, 44, 45], [16, 17], [25, 41], [46, 48], [26, 40], [37, 43, 61], [19, 68], [14, 22], [57, 58, 42, 64], [24, 23, 51], [59, 18, 20], [67, 32, 66, 70], [1, 2, 4]] with distance 0.3795615543647866\n",
      "Formed clusters: [[0], [5], [6], [7], [10], [11], [12], [15], [21], [39], [49], [53], [56], [69], [30, 31], [8, 9], [13, 50], [63, 60, 62], [3, 34], [38, 47], [33, 54], [27, 28, 52], [29, 65], [55, 44, 45], [16, 17], [25, 41], [46, 48], [26, 40], [37, 43, 61], [19, 68], [14, 22], [57, 58, 42, 64], [24, 23, 51], [59, 18, 20], [67, 32, 66, 70], [1, 2, 4], [35, 36]] with distance 0.39211296586338307\n",
      "Formed clusters: [[0], [5], [6], [7], [10], [11], [15], [21], [39], [49], [53], [56], [69], [30, 31], [8, 9], [63, 60, 62], [3, 34], [38, 47], [33, 54], [27, 28, 52], [29, 65], [55, 44, 45], [16, 17], [25, 41], [46, 48], [26, 40], [37, 43, 61], [19, 68], [14, 22], [57, 58, 42, 64], [24, 23, 51], [59, 18, 20], [67, 32, 66, 70], [1, 2, 4], [35, 36], [12, 13, 50]] with distance 0.3976965044795662\n",
      "Formed clusters: [[0], [5], [6], [7], [10], [11], [15], [21], [39], [49], [53], [56], [69], [30, 31], [8, 9], [63, 60, 62], [3, 34], [33, 54], [27, 28, 52], [29, 65], [55, 44, 45], [16, 17], [25, 41], [26, 40], [37, 43, 61], [19, 68], [14, 22], [57, 58, 42, 64], [24, 23, 51], [59, 18, 20], [67, 32, 66, 70], [1, 2, 4], [35, 36], [12, 13, 50], [38, 47, 46, 48]] with distance 0.39815858571040097\n",
      "Formed clusters: [[0], [5], [6], [7], [10], [11], [15], [21], [39], [49], [56], [69], [30, 31], [8, 9], [63, 60, 62], [3, 34], [27, 28, 52], [29, 65], [55, 44, 45], [16, 17], [25, 41], [26, 40], [37, 43, 61], [19, 68], [14, 22], [57, 58, 42, 64], [24, 23, 51], [59, 18, 20], [67, 32, 66, 70], [1, 2, 4], [35, 36], [12, 13, 50], [38, 47, 46, 48], [53, 33, 54]] with distance 0.40892333185706453\n",
      "Formed clusters: [[0], [5], [6], [7], [10], [11], [15], [21], [39], [49], [56], [69], [8, 9], [63, 60, 62], [3, 34], [27, 28, 52], [29, 65], [55, 44, 45], [16, 17], [25, 41], [26, 40], [37, 43, 61], [19, 68], [14, 22], [57, 58, 42, 64], [24, 23, 51], [59, 18, 20], [1, 2, 4], [35, 36], [12, 13, 50], [38, 47, 46, 48], [53, 33, 54], [30, 31, 67, 32, 66, 70]] with distance 0.417011470503462\n",
      "Formed clusters: [[0], [5], [6], [7], [10], [11], [15], [21], [39], [49], [56], [69], [8, 9], [63, 60, 62], [27, 28, 52], [29, 65], [55, 44, 45], [16, 17], [25, 41], [26, 40], [37, 43, 61], [19, 68], [14, 22], [57, 58, 42, 64], [24, 23, 51], [59, 18, 20], [35, 36], [12, 13, 50], [38, 47, 46, 48], [53, 33, 54], [30, 31, 67, 32, 66, 70], [3, 34, 1, 2, 4]] with distance 0.4166311264510399\n",
      "Formed clusters: [[0], [5], [6], [10], [11], [15], [21], [39], [56], [69], [8, 9], [63, 60, 62], [27, 28, 52], [29, 65], [55, 44, 45], [16, 17], [25, 41], [26, 40], [37, 43, 61], [19, 68], [14, 22], [57, 58, 42, 64], [24, 23, 51], [59, 18, 20], [35, 36], [12, 13, 50], [38, 47, 46, 48], [53, 33, 54], [30, 31, 67, 32, 66, 70], [3, 34, 1, 2, 4], [7, 49]] with distance 0.41974008463223156\n",
      "Formed clusters: [[0], [5], [6], [10], [11], [15], [21], [39], [56], [69], [8, 9], [63, 60, 62], [27, 28, 52], [29, 65], [55, 44, 45], [16, 17], [25, 41], [26, 40], [37, 43, 61], [19, 68], [14, 22], [59, 18, 20], [35, 36], [12, 13, 50], [38, 47, 46, 48], [53, 33, 54], [30, 31, 67, 32, 66, 70], [3, 34, 1, 2, 4], [7, 49], [57, 58, 42, 64, 24, 23, 51]] with distance 0.4158675495909345\n",
      "Formed clusters: [[0], [5], [6], [10], [11], [15], [21], [39], [56], [69], [8, 9], [63, 60, 62], [29, 65], [55, 44, 45], [16, 17], [25, 41], [37, 43, 61], [19, 68], [14, 22], [59, 18, 20], [35, 36], [12, 13, 50], [38, 47, 46, 48], [53, 33, 54], [30, 31, 67, 32, 66, 70], [3, 34, 1, 2, 4], [7, 49], [57, 58, 42, 64, 24, 23, 51], [27, 28, 52, 26, 40]] with distance 0.43666715078116003\n",
      "Formed clusters: [[0], [6], [10], [11], [15], [39], [56], [69], [8, 9], [63, 60, 62], [29, 65], [55, 44, 45], [16, 17], [25, 41], [37, 43, 61], [19, 68], [14, 22], [59, 18, 20], [35, 36], [12, 13, 50], [38, 47, 46, 48], [53, 33, 54], [30, 31, 67, 32, 66, 70], [3, 34, 1, 2, 4], [7, 49], [57, 58, 42, 64, 24, 23, 51], [27, 28, 52, 26, 40], [5, 21]] with distance 0.4436640619457334\n",
      "Formed clusters: [[0], [6], [10], [11], [15], [39], [56], [69], [8, 9], [63, 60, 62], [55, 44, 45], [16, 17], [25, 41], [37, 43, 61], [19, 68], [14, 22], [35, 36], [12, 13, 50], [38, 47, 46, 48], [53, 33, 54], [30, 31, 67, 32, 66, 70], [3, 34, 1, 2, 4], [7, 49], [57, 58, 42, 64, 24, 23, 51], [27, 28, 52, 26, 40], [5, 21], [29, 65, 59, 18, 20]] with distance 0.44408470015337076\n",
      "Formed clusters: [[0], [6], [10], [11], [15], [39], [56], [69], [8, 9], [63, 60, 62], [55, 44, 45], [25, 41], [37, 43, 61], [19, 68], [14, 22], [12, 13, 50], [38, 47, 46, 48], [53, 33, 54], [30, 31, 67, 32, 66, 70], [3, 34, 1, 2, 4], [7, 49], [57, 58, 42, 64, 24, 23, 51], [27, 28, 52, 26, 40], [5, 21], [29, 65, 59, 18, 20], [16, 17, 35, 36]] with distance 0.46671170928477707\n",
      "Formed clusters: [[0], [6], [10], [11], [15], [39], [56], [69], [8, 9], [55, 44, 45], [25, 41], [37, 43, 61], [19, 68], [14, 22], [12, 13, 50], [38, 47, 46, 48], [53, 33, 54], [30, 31, 67, 32, 66, 70], [3, 34, 1, 2, 4], [57, 58, 42, 64, 24, 23, 51], [27, 28, 52, 26, 40], [5, 21], [29, 65, 59, 18, 20], [16, 17, 35, 36], [63, 60, 62, 7, 49]] with distance 0.44061005369916045\n",
      "Formed clusters: [[0], [6], [10], [11], [15], [39], [56], [69], [8, 9], [25, 41], [37, 43, 61], [19, 68], [14, 22], [12, 13, 50], [38, 47, 46, 48], [53, 33, 54], [30, 31, 67, 32, 66, 70], [3, 34, 1, 2, 4], [57, 58, 42, 64, 24, 23, 51], [27, 28, 52, 26, 40], [5, 21], [29, 65, 59, 18, 20], [16, 17, 35, 36], [55, 44, 45, 63, 60, 62, 7, 49]] with distance 0.47939130537772856\n",
      "Formed clusters: [[0], [10], [11], [15], [39], [56], [69], [8, 9], [25, 41], [37, 43, 61], [19, 68], [14, 22], [12, 13, 50], [38, 47, 46, 48], [53, 33, 54], [30, 31, 67, 32, 66, 70], [3, 34, 1, 2, 4], [57, 58, 42, 64, 24, 23, 51], [27, 28, 52, 26, 40], [29, 65, 59, 18, 20], [16, 17, 35, 36], [55, 44, 45, 63, 60, 62, 7, 49], [6, 5, 21]] with distance 0.5067479774140073\n",
      "Formed clusters: [[0], [10], [11], [15], [39], [56], [8, 9], [25, 41], [37, 43, 61], [14, 22], [12, 13, 50], [38, 47, 46, 48], [53, 33, 54], [30, 31, 67, 32, 66, 70], [3, 34, 1, 2, 4], [57, 58, 42, 64, 24, 23, 51], [27, 28, 52, 26, 40], [29, 65, 59, 18, 20], [16, 17, 35, 36], [55, 44, 45, 63, 60, 62, 7, 49], [6, 5, 21], [69, 19, 68]] with distance 0.4870425110644618\n",
      "Formed clusters: [[0], [10], [11], [15], [39], [56], [8, 9], [25, 41], [37, 43, 61], [38, 47, 46, 48], [53, 33, 54], [30, 31, 67, 32, 66, 70], [3, 34, 1, 2, 4], [57, 58, 42, 64, 24, 23, 51], [27, 28, 52, 26, 40], [29, 65, 59, 18, 20], [16, 17, 35, 36], [55, 44, 45, 63, 60, 62, 7, 49], [6, 5, 21], [69, 19, 68], [14, 22, 12, 13, 50]] with distance 0.4827800774442806\n",
      "Formed clusters: [[0], [10], [11], [15], [39], [56], [8, 9], [37, 43, 61], [38, 47, 46, 48], [53, 33, 54], [30, 31, 67, 32, 66, 70], [3, 34, 1, 2, 4], [57, 58, 42, 64, 24, 23, 51], [29, 65, 59, 18, 20], [16, 17, 35, 36], [55, 44, 45, 63, 60, 62, 7, 49], [6, 5, 21], [69, 19, 68], [14, 22, 12, 13, 50], [25, 41, 27, 28, 52, 26, 40]] with distance 0.5049860099676065\n",
      "Formed clusters: [[0], [10], [11], [15], [39], [56], [8, 9], [38, 47, 46, 48], [53, 33, 54], [30, 31, 67, 32, 66, 70], [3, 34, 1, 2, 4], [57, 58, 42, 64, 24, 23, 51], [29, 65, 59, 18, 20], [55, 44, 45, 63, 60, 62, 7, 49], [6, 5, 21], [69, 19, 68], [14, 22, 12, 13, 50], [25, 41, 27, 28, 52, 26, 40], [37, 43, 61, 16, 17, 35, 36]] with distance 0.5278766132765392\n",
      "Formed clusters: [[0], [10], [11], [15], [39], [56], [8, 9], [38, 47, 46, 48], [53, 33, 54], [30, 31, 67, 32, 66, 70], [57, 58, 42, 64, 24, 23, 51], [29, 65, 59, 18, 20], [55, 44, 45, 63, 60, 62, 7, 49], [6, 5, 21], [69, 19, 68], [14, 22, 12, 13, 50], [37, 43, 61, 16, 17, 35, 36], [3, 34, 1, 2, 4, 25, 41, 27, 28, 52, 26, 40]] with distance 0.47434801774723934\n",
      "Formed clusters: [[0], [10], [11], [15], [39], [56], [8, 9], [38, 47, 46, 48], [53, 33, 54], [30, 31, 67, 32, 66, 70], [29, 65, 59, 18, 20], [55, 44, 45, 63, 60, 62, 7, 49], [6, 5, 21], [69, 19, 68], [37, 43, 61, 16, 17, 35, 36], [3, 34, 1, 2, 4, 25, 41, 27, 28, 52, 26, 40], [57, 58, 42, 64, 24, 23, 51, 14, 22, 12, 13, 50]] with distance 0.533881326356174\n",
      "Formed clusters: [[0], [10], [11], [15], [56], [8, 9], [38, 47, 46, 48], [53, 33, 54], [29, 65, 59, 18, 20], [55, 44, 45, 63, 60, 62, 7, 49], [6, 5, 21], [69, 19, 68], [37, 43, 61, 16, 17, 35, 36], [3, 34, 1, 2, 4, 25, 41, 27, 28, 52, 26, 40], [57, 58, 42, 64, 24, 23, 51, 14, 22, 12, 13, 50], [39, 30, 31, 67, 32, 66, 70]] with distance 0.5452314880828203\n",
      "Formed clusters: [[0], [10], [11], [15], [56], [8, 9], [38, 47, 46, 48], [53, 33, 54], [55, 44, 45, 63, 60, 62, 7, 49], [6, 5, 21], [37, 43, 61, 16, 17, 35, 36], [3, 34, 1, 2, 4, 25, 41, 27, 28, 52, 26, 40], [57, 58, 42, 64, 24, 23, 51, 14, 22, 12, 13, 50], [39, 30, 31, 67, 32, 66, 70], [29, 65, 59, 18, 20, 69, 19, 68]] with distance 0.6172240988862845\n",
      "Formed clusters: [[0], [10], [11], [15], [56], [8, 9], [53, 33, 54], [55, 44, 45, 63, 60, 62, 7, 49], [6, 5, 21], [37, 43, 61, 16, 17, 35, 36], [3, 34, 1, 2, 4, 25, 41, 27, 28, 52, 26, 40], [57, 58, 42, 64, 24, 23, 51, 14, 22, 12, 13, 50], [29, 65, 59, 18, 20, 69, 19, 68], [38, 47, 46, 48, 39, 30, 31, 67, 32, 66, 70]] with distance 0.595216132789854\n",
      "Formed clusters: [[0], [10], [11], [15], [56], [8, 9], [55, 44, 45, 63, 60, 62, 7, 49], [6, 5, 21], [37, 43, 61, 16, 17, 35, 36], [3, 34, 1, 2, 4, 25, 41, 27, 28, 52, 26, 40], [29, 65, 59, 18, 20, 69, 19, 68], [38, 47, 46, 48, 39, 30, 31, 67, 32, 66, 70], [53, 33, 54, 57, 58, 42, 64, 24, 23, 51, 14, 22, 12, 13, 50]] with distance 0.5489448382389485\n",
      "Formed clusters: [[0], [10], [11], [15], [56], [8, 9], [55, 44, 45, 63, 60, 62, 7, 49], [6, 5, 21], [37, 43, 61, 16, 17, 35, 36], [29, 65, 59, 18, 20, 69, 19, 68], [38, 47, 46, 48, 39, 30, 31, 67, 32, 66, 70], [3, 34, 1, 2, 4, 25, 41, 27, 28, 52, 26, 40, 53, 33, 54, 57, 58, 42, 64, 24, 23, 51, 14, 22, 12, 13, 50]] with distance 0.5589399551922125\n",
      "Formed clusters: [[0], [10], [11], [15], [56], [8, 9], [37, 43, 61, 16, 17, 35, 36], [29, 65, 59, 18, 20, 69, 19, 68], [38, 47, 46, 48, 39, 30, 31, 67, 32, 66, 70], [3, 34, 1, 2, 4, 25, 41, 27, 28, 52, 26, 40, 53, 33, 54, 57, 58, 42, 64, 24, 23, 51, 14, 22, 12, 13, 50], [55, 44, 45, 63, 60, 62, 7, 49, 6, 5, 21]] with distance 0.5753834048020798\n",
      "Formed clusters: [[0], [10], [11], [15], [56], [8, 9], [29, 65, 59, 18, 20, 69, 19, 68], [3, 34, 1, 2, 4, 25, 41, 27, 28, 52, 26, 40, 53, 33, 54, 57, 58, 42, 64, 24, 23, 51, 14, 22, 12, 13, 50], [55, 44, 45, 63, 60, 62, 7, 49, 6, 5, 21], [37, 43, 61, 16, 17, 35, 36, 38, 47, 46, 48, 39, 30, 31, 67, 32, 66, 70]] with distance 0.7322226507368749\n",
      "Formed clusters: [[0], [10], [11], [15], [56], [8, 9], [3, 34, 1, 2, 4, 25, 41, 27, 28, 52, 26, 40, 53, 33, 54, 57, 58, 42, 64, 24, 23, 51, 14, 22, 12, 13, 50], [55, 44, 45, 63, 60, 62, 7, 49, 6, 5, 21], [29, 65, 59, 18, 20, 69, 19, 68, 37, 43, 61, 16, 17, 35, 36, 38, 47, 46, 48, 39, 30, 31, 67, 32, 66, 70]] with distance 0.7536870667943845\n"
     ]
    }
   ],
   "source": [
    "# Hyperparameters\n",
    "delta = 0.8\n",
    "alpha = 0.5\n",
    "\n",
    "# Performing the clustering\n",
    "clusters, list_clusters = clustering_obj.hierarchical_clustering_graph(delta, alpha)"
   ]
  },
  {
   "cell_type": "code",
   "execution_count": 6,
   "metadata": {},
   "outputs": [],
   "source": [
    "from src.helpers import show_cluster_in_parent_dhn"
   ]
  },
  {
   "cell_type": "code",
   "execution_count": 7,
   "metadata": {},
   "outputs": [],
   "source": [
    "clusters = [[0],\n",
    " [10],\n",
    " [11],\n",
    " [15],\n",
    " [56],\n",
    " [8, 9],\n",
    " [29,\n",
    "  65,\n",
    "  59,\n",
    "  18,\n",
    "  20,\n",
    "  69,\n",
    "  19,\n",
    "  68,\n",
    "  37,\n",
    "  43,\n",
    "  61,\n",
    "  16,\n",
    "  17,\n",
    "  35,\n",
    "  36,\n",
    "  38,\n",
    "  47,\n",
    "  46,\n",
    "  48,\n",
    "  39,\n",
    "  30,\n",
    "  31,\n",
    "  67,\n",
    "  32,\n",
    "  66,\n",
    "  70],\n",
    " [3,\n",
    "  34,\n",
    "  1,\n",
    "  2,\n",
    "  4,\n",
    "  25,\n",
    "  41,\n",
    "  27,\n",
    "  28,\n",
    "  52,\n",
    "  26,\n",
    "  40,\n",
    "  53,\n",
    "  33,\n",
    "  54,\n",
    "  57,\n",
    "  58,\n",
    "  42,\n",
    "  64,\n",
    "  24,\n",
    "  23,\n",
    "  51,\n",
    "  14,\n",
    "  22,\n",
    "  12,\n",
    "  13,\n",
    "  50,\n",
    "  55,\n",
    "  44,\n",
    "  45,\n",
    "  63,\n",
    "  60,\n",
    "  62,\n",
    "  7,\n",
    "  49,\n",
    "  6,\n",
    "  5,\n",
    "  21]]"
   ]
  },
  {
   "cell_type": "code",
   "execution_count": 8,
   "metadata": {},
   "outputs": [
    {
     "data": {
      "image/png": "[encoded data removed]",
      "text/plain": [
       "<Figure size 800x600 with 1 Axes>"
      ]
     },
     "metadata": {},
     "output_type": "display_data"
    }
   ],
   "source": [
    "show_cluster_in_parent_dhn([i+1 for i in clusters[7]], clustering_obj.graph, clustering_obj.dhn)"
   ]
  },
  {
   "cell_type": "code",
   "execution_count": 9,
   "metadata": {},
   "outputs": [
    {
     "data": {
      "text/plain": [
       "({'mean_size': np.float64(22.0),\n",
       "  'mean_cluster_has_loop': np.float64(0.0),\n",
       "  'mean_density': np.float64(0.18825910931174086),\n",
       "  'mean_internal_degree': np.float64(21.0),\n",
       "  'mean_scaled_density': np.float64(1.0),\n",
       "  'mean_nodes_mean_internal_indegree': np.float64(0.8117408906882592),\n",
       "  'mean_nodes_sum_internal_indegree': np.float64(21.0),\n",
       "  'mean_nodes_max_internal_indegree': np.float64(1.0),\n",
       "  'mean_nodes_mean_internal_outdegree': np.float64(0.8117408906882592),\n",
       "  'mean_nodes_sum_internal_outdegree': np.float64(21.0),\n",
       "  'mean_nodes_max_internal_outdegree': np.float64(2.3333333333333335),\n",
       "  'mean_nodes_mean_internal_degree': np.float64(1.6234817813765183),\n",
       "  'mean_nodes_sum_internal_degree': np.float64(42.0),\n",
       "  'mean_nodes_max_internal_degree': np.float64(2.3333333333333335),\n",
       "  'mean_average_outdegree_fraction': np.float64(0.028002699055330635),\n",
       "  'mean_max_outdegree_fraction': np.float64(0.6666666666666666),\n",
       "  'mean_average_indegree_fraction': np.float64(0.19264507422402158),\n",
       "  'mean_max_indegree_fraction': np.float64(1.0),\n",
       "  'mean_cut_size': np.float64(2.3333333333333335),\n",
       "  'mean_cut_ratio': np.float64(0.23144399460188936),\n",
       "  'mean_conductance': np.float64(0.22738095238095235),\n",
       "  'mean_nb_upstream_interfaces': np.float64(1.3333333333333333),\n",
       "  'mean_nb_downstream_interfaces': np.float64(1.0),\n",
       "  'mean_max_diameter': np.float64(8.895685072425819),\n",
       "  'mean_mean_delay_time': np.float64(28.65292069626315),\n",
       "  'mean_min_delay_time': np.float64(7.842805147108083),\n",
       "  'mean_max_delay_time': np.float64(86.69208860477198),\n",
       "  'mean_std_delay_time': np.float64(18.942817267457592),\n",
       "  'mean_median_delay_time': np.float64(23.81039691706633),\n",
       "  'mean_e_loss_wrt_energy_through': np.float64(13.385323067421368),\n",
       "  'mean_e_loss_wrt_energy_consumed': np.float64(15.46118244440664),\n",
       "  'mean_total_e_loss_wh': np.float64(4271933947.411341),\n",
       "  'mean_mean_ts_tr_distance': np.float64(3.9187657806214404),\n",
       "  'mean_mean_demands_distance': np.float64(248601.61689596772),\n",
       "  'mean_mean_pipes_loss': np.float64(0.10135778165227616),\n",
       "  'Count_clusters': 3,\n",
       "  'Total_clustered_nodes': 66,\n",
       "  'List_clusters': [[9, 10],\n",
       "   [30,\n",
       "    66,\n",
       "    60,\n",
       "    19,\n",
       "    21,\n",
       "    70,\n",
       "    20,\n",
       "    69,\n",
       "    38,\n",
       "    44,\n",
       "    62,\n",
       "    17,\n",
       "    18,\n",
       "    36,\n",
       "    37,\n",
       "    39,\n",
       "    48,\n",
       "    47,\n",
       "    49,\n",
       "    40,\n",
       "    31,\n",
       "    32,\n",
       "    68,\n",
       "    33,\n",
       "    67,\n",
       "    71],\n",
       "   [4,\n",
       "    35,\n",
       "    2,\n",
       "    3,\n",
       "    5,\n",
       "    26,\n",
       "    42,\n",
       "    28,\n",
       "    29,\n",
       "    53,\n",
       "    27,\n",
       "    41,\n",
       "    54,\n",
       "    34,\n",
       "    55,\n",
       "    58,\n",
       "    59,\n",
       "    43,\n",
       "    65,\n",
       "    25,\n",
       "    24,\n",
       "    52,\n",
       "    15,\n",
       "    23,\n",
       "    13,\n",
       "    14,\n",
       "    51,\n",
       "    56,\n",
       "    45,\n",
       "    46,\n",
       "    64,\n",
       "    61,\n",
       "    63,\n",
       "    8,\n",
       "    50,\n",
       "    7,\n",
       "    6,\n",
       "    22]]},\n",
       " {'Found-0': [9, 10],\n",
       "  'Found-1': [30,\n",
       "   66,\n",
       "   60,\n",
       "   19,\n",
       "   21,\n",
       "   70,\n",
       "   20,\n",
       "   69,\n",
       "   38,\n",
       "   44,\n",
       "   62,\n",
       "   17,\n",
       "   18,\n",
       "   36,\n",
       "   37,\n",
       "   39,\n",
       "   48,\n",
       "   47,\n",
       "   49,\n",
       "   40,\n",
       "   31,\n",
       "   32,\n",
       "   68,\n",
       "   33,\n",
       "   67,\n",
       "   71],\n",
       "  'Found-2': [4,\n",
       "   35,\n",
       "   2,\n",
       "   3,\n",
       "   5,\n",
       "   26,\n",
       "   42,\n",
       "   28,\n",
       "   29,\n",
       "   53,\n",
       "   27,\n",
       "   41,\n",
       "   54,\n",
       "   34,\n",
       "   55,\n",
       "   58,\n",
       "   59,\n",
       "   43,\n",
       "   65,\n",
       "   25,\n",
       "   24,\n",
       "   52,\n",
       "   15,\n",
       "   23,\n",
       "   13,\n",
       "   14,\n",
       "   51,\n",
       "   56,\n",
       "   45,\n",
       "   46,\n",
       "   64,\n",
       "   61,\n",
       "   63,\n",
       "   8,\n",
       "   50,\n",
       "   7,\n",
       "   6,\n",
       "   22]})"
      ]
     },
     "execution_count": 9,
     "metadata": {},
     "output_type": "execute_result"
    }
   ],
   "source": [
    "clustering_obj.compute_clustering_metrics([cl for cl in clusters if len(cl)>=2])"
   ]
  },
  {
   "cell_type": "code",
   "execution_count": null,
   "metadata": {},
   "outputs": [],
   "source": [
    "print('Nodes of the formed clusters: ')\n",
    "for cl in clusters:\n",
    "    if len(cl) > 1:\n",
    "        print('  ', [i+1 for i in cl])"
   ]
  },
  {
   "cell_type": "code",
   "execution_count": 10,
   "metadata": {},
   "outputs": [],
   "source": [
    "df_ = pd.DataFrame(data=np.zeros(shape=(8,2)), columns=['test1', 'test2'])"
   ]
  },
  {
   "cell_type": "code",
   "execution_count": 17,
   "metadata": {},
   "outputs": [
    {
     "data": {
      "text/plain": [
       "Index(['test1', 'test2'], dtype='object')"
      ]
     },
     "execution_count": 17,
     "metadata": {},
     "output_type": "execute_result"
    }
   ],
   "source": [
    "df_.mean().index"
   ]
  },
  {
   "cell_type": "code",
   "execution_count": 20,
   "metadata": {},
   "outputs": [
    {
     "name": "stdout",
     "output_type": "stream",
     "text": [
      "0.0\n",
      "0.0\n"
     ]
    }
   ],
   "source": [
    "for el in df_.mean().index:\n",
    "    print(df_.mean()[el])"
   ]
  },
  {
   "cell_type": "code",
   "execution_count": null,
   "metadata": {},
   "outputs": [],
   "source": []
  }
 ],
 "metadata": {
  "kernelspec": {
   "display_name": ".env",
   "language": "python",
   "name": "python3"
  },
  "language_info": {
   "codemirror_mode": {
    "name": "ipython",
    "version": 3
   },
   "file_extension": ".py",
   "mimetype": "text/x-python",
   "name": "python",
   "nbconvert_exporter": "python",
   "pygments_lexer": "ipython3",
   "version": "3.12.7"
  }
 },
 "nbformat": 4,
 "nbformat_minor": 2
}
