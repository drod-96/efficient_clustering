{
 "cells": [
  {
   "cell_type": "markdown",
   "metadata": {},
   "source": [
    "This notebook walks through an example of performing our proposed clustering on a DHN. "
   ]
  },
  {
   "cell_type": "code",
   "execution_count": 1,
   "metadata": {},
   "outputs": [],
   "source": [
    "# First we need the task-driven distance metrics values\n",
    "# Note that to compute these distances, the physical states of the DHN are necessary. However, they have been made already available.\n",
    "\n",
    "# Import packages\n",
    "from src.dhnv2 import *\n",
    "from src.utils import *\n",
    "from src.helpers import *\n",
    "from src.clustering import ClusteringDHN\n"
   ]
  },
  {
   "cell_type": "markdown",
   "metadata": {},
   "source": [
    "Creating a ClusteringDHN object\n",
    "\n",
    "This object requires **two major arguments**: \n",
    "\n",
    "    - dhn: (DistrictHeatingNetworkFromExcel) object containing the graph and physical descriptions of the DHN\n",
    "    \n",
    "    - producers: (list) indexes of the sources nodes\n",
    "\n",
    "\n",
    "However, here in this demonstration, we have already saved all the distance metrics and therefore the dhn and sources information are not needed anymore."
   ]
  },
  {
   "cell_type": "code",
   "execution_count": 2,
   "metadata": {},
   "outputs": [],
   "source": [
    "# Read the clustering object\n",
    "clustering_obj = ClusteringDHN(dhn_indicator=1, dhn=None, producers=None) # dhn and sources may not be none if available and requires the physical states"
   ]
  },
  {
   "cell_type": "markdown",
   "metadata": {},
   "source": [
    "Loading all distance values ...."
   ]
  },
  {
   "cell_type": "code",
   "execution_count": 3,
   "metadata": {},
   "outputs": [],
   "source": [
    "# If the distance metrics values are available\n",
    "clustering_obj.load_distance_matrix()"
   ]
  },
  {
   "cell_type": "markdown",
   "metadata": {},
   "source": [
    "Here, we perform the clustering. Defined values of the hyperparameters are required."
   ]
  },
  {
   "cell_type": "code",
   "execution_count": 4,
   "metadata": {},
   "outputs": [
    {
     "name": "stdout",
     "output_type": "stream",
     "text": [
      "Performing the clustering for DHN 1 .....\n",
      "Nodes of the formed clusters: \n",
      "   [2, 3, 4, 5, 13, 14, 15, 23, 24, 25, 26, 27, 28, 29, 34, 35, 41, 42, 43, 51, 52, 53, 54, 55, 58, 59, 65]\n",
      "   [6, 22]\n",
      "   [8, 45, 46, 50, 56, 61, 63, 64]\n",
      "   [9, 10]\n",
      "   [17, 18, 31, 32, 33, 36, 37, 38, 40, 44, 62, 67, 68, 71]\n",
      "   [19, 20, 21, 30, 60, 66, 69, 70]\n",
      "   [39, 47, 48, 49]\n"
     ]
    }
   ],
   "source": [
    "# Hyperparameters\n",
    "delta = 0.8\n",
    "alpha = 0.5\n",
    "beta = 0.5\n",
    "\n",
    "# Performing the clustering\n",
    "list_clusters, model_algo, clustering_labels = clustering_obj.perform_clustering_one_shot(alpha, beta, delta)\n",
    "print('Nodes of the formed clusters: ')\n",
    "for cl in list_clusters:\n",
    "    if len(cl) > 1:\n",
    "        print('  ', [i+1 for i in cl])"
   ]
  },
  {
   "cell_type": "code",
   "execution_count": 9,
   "metadata": {},
   "outputs": [
    {
     "data": {
      "text/plain": [
       "array([[0.        , 1.        , 1.        , ..., 1.        , 1.        ,\n",
       "        1.        ],\n",
       "       [1.        , 0.        , 0.57862575, ..., 1.        , 1.        ,\n",
       "        1.        ],\n",
       "       [1.        , 0.57862575, 0.        , ..., 1.        , 1.        ,\n",
       "        1.        ],\n",
       "       ...,\n",
       "       [1.        , 1.        , 1.        , ..., 0.        , 0.51661794,\n",
       "        1.        ],\n",
       "       [1.        , 1.        , 1.        , ..., 0.51661794, 0.        ,\n",
       "        1.        ],\n",
       "       [1.        , 1.        , 1.        , ..., 1.        , 1.        ,\n",
       "        0.        ]])"
      ]
     },
     "execution_count": 9,
     "metadata": {},
     "output_type": "execute_result"
    }
   ],
   "source": [
    "clustering_obj.task_driven_distance_matrix[0.0][0.0]"
   ]
  },
  {
   "cell_type": "code",
   "execution_count": 6,
   "metadata": {},
   "outputs": [
    {
     "data": {
      "text/plain": [
       "array([0.22777306, 0.25168317, 0.27796152, 0.29421313, 0.29549134,\n",
       "       0.31971633, 0.3205436 , 0.32503666, 0.33180073, 0.3689609 ,\n",
       "       0.37377125, 0.38200483, 0.38516827, 0.38943877, 0.41084246,\n",
       "       0.4144906 , 0.42022123, 0.42292739, 0.42828369, 0.43726404,\n",
       "       0.442398  , 0.44532213, 0.45496919, 0.45830897, 0.47380064,\n",
       "       0.48071294, 0.48117016, 0.48576397, 0.48577469, 0.48939264,\n",
       "       0.50329553, 0.51658972, 0.51958249, 0.52631704, 0.52723714,\n",
       "       0.52949858, 0.5348428 , 0.53617595, 0.54013636, 0.54255319,\n",
       "       0.54846125, 0.55949476, 0.55982129, 0.56311658, 0.57102447,\n",
       "       0.57639404, 0.58037171, 0.58931287, 0.61009098, 0.61702027,\n",
       "       0.62064422, 0.64583456, 0.65154055, 0.66450188, 0.67109073,\n",
       "       0.68034413, 0.73534061, 0.77090371, 0.80677053, 0.9       ,\n",
       "       1.        , 1.        , 1.        , 1.        , 1.        ,\n",
       "       1.        , 1.        , 1.        , 1.        , 1.        ])"
      ]
     },
     "execution_count": 6,
     "metadata": {},
     "output_type": "execute_result"
    }
   ],
   "source": [
    "model_algo.distances_"
   ]
  },
  {
   "cell_type": "code",
   "execution_count": null,
   "metadata": {},
   "outputs": [],
   "source": []
  }
 ],
 "metadata": {
  "kernelspec": {
   "display_name": ".env_clustering",
   "language": "python",
   "name": "python3"
  },
  "language_info": {
   "codemirror_mode": {
    "name": "ipython",
    "version": 3
   },
   "file_extension": ".py",
   "mimetype": "text/x-python",
   "name": "python",
   "nbconvert_exporter": "python",
   "pygments_lexer": "ipython3",
   "version": "3.9.12"
  }
 },
 "nbformat": 4,
 "nbformat_minor": 2
}
